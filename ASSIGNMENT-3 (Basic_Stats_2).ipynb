{
  "nbformat": 4,
  "nbformat_minor": 0,
  "metadata": {
    "colab": {
      "private_outputs": true,
      "provenance": [],
      "include_colab_link": true
    },
    "kernelspec": {
      "name": "python3",
      "display_name": "Python 3"
    },
    "language_info": {
      "name": "python"
    }
  },
  "cells": [
    {
      "cell_type": "markdown",
      "metadata": {
        "id": "view-in-github",
        "colab_type": "text"
      },
      "source": [
        "<a href=\"https://colab.research.google.com/github/vaisshnavee1410/basic_statistics_2.ipynb/blob/main/Basic_Stats_2_.ipynb\" target=\"_parent\"><img src=\"https://colab.research.google.com/assets/colab-badge.svg\" alt=\"Open In Colab\"/></a>"
      ]
    },
    {
      "cell_type": "markdown",
      "source": [
        "#ESTIMATION AND CONFIDENCE INTERVALS"
      ],
      "metadata": {
        "id": "lAXA4gn_3k4X"
      }
    },
    {
      "cell_type": "markdown",
      "source": [
        "**Background**:\n",
        "\n",
        "In quality control processes, especially when dealing with high-value items, destructive sampling is a necessary but costly method to ensure product quality. The test to determine whether an item meets the quality standards destroys the item, leading to the requirement of small sample sizes due to cost constraints.\n",
        "\n",
        "**Scenario**:\n",
        "\n",
        "A manufacturer of print-heads for personal computers is interested in estimating the mean durability of their print-heads in terms of the number of characters printed before failure. To assess this, the manufacturer conducts a study on a small sample of print-heads due to the destructive nature of the testing process."
      ],
      "metadata": {
        "id": "031g9uvh2_1R"
      }
    },
    {
      "cell_type": "markdown",
      "source": [
        "## **Data:**\n",
        "\n",
        "A total of 15 print-heads were randomly selected and tested until failure. The durability of each print-head (in millions of characters) was recorded as follows:\n",
        "1.13, 1.55, 1.43, 0.92, 1.25, 1.36, 1.32, 0.85, 1.07, 1.48, 1.20, 1.33, 1.18, 1.22, 1.29\n"
      ],
      "metadata": {
        "id": "-YFP2GEp5M7d"
      }
    },
    {
      "cell_type": "markdown",
      "source": [
        "###ASSIGNMENT TASKS:"
      ],
      "metadata": {
        "id": "ZjHzYjAl5fUB"
      }
    },
    {
      "cell_type": "markdown",
      "source": [
        " * **Build 99% Confidence Interval Using Sample Standard Deviatio**n\n",
        "\n",
        "\n",
        "Assuming the sample is representative of the population, construct a 99% confidence interval for the mean number of characters printed before the print-head fails using the sample standard deviation. Explain the steps you take and the rationale behind using the t-distribution for this task.\n"
      ],
      "metadata": {
        "id": "HquC5H_nDmDG"
      }
    },
    {
      "cell_type": "code",
      "source": [
        "import numpy as np\n",
        "# Given data\n",
        "data = np.array([1.13, 1.55, 1.43, 0.92, 1.25, 1.36, 1.32, 0.85, 1.07, 1.48,\n",
        "                 1.20, 1.33, 1.18, 1.22, 1.29])"
      ],
      "metadata": {
        "id": "Dt2ezoM76XXm"
      },
      "execution_count": null,
      "outputs": []
    },
    {
      "cell_type": "code",
      "source": [
        "# Step 1: Calculate the sample mean\n",
        "sample_mean = np.mean(data)"
      ],
      "metadata": {
        "id": "ZNQh71gfJsGA"
      },
      "execution_count": null,
      "outputs": []
    },
    {
      "cell_type": "code",
      "source": [
        "print(sample_mean)"
      ],
      "metadata": {
        "id": "_75B2sPH7Keg"
      },
      "execution_count": null,
      "outputs": []
    },
    {
      "cell_type": "code",
      "source": [
        "# Step 2: Calculate the standard deviation\n",
        "sample_std_dev = np.std(data, ddof=1)"
      ],
      "metadata": {
        "id": "BojQj1Fs7iBI"
      },
      "execution_count": null,
      "outputs": []
    },
    {
      "cell_type": "code",
      "source": [
        "print(sample_std_dev)"
      ],
      "metadata": {
        "id": "Vll_FkDd8U0C"
      },
      "execution_count": null,
      "outputs": []
    },
    {
      "cell_type": "code",
      "source": [
        "# Step 3: Find the t-critical value for 99% confidence interval\n",
        "import scipy.stats as stats\n",
        "\n",
        "n = 15\n",
        "df = n - 1\n",
        "confidence_level = 0.99\n",
        "t_critical = stats.t.ppf((1 + confidence_level) / 2, df)"
      ],
      "metadata": {
        "id": "t4Ml2xr2_BpI"
      },
      "execution_count": null,
      "outputs": []
    },
    {
      "cell_type": "code",
      "source": [
        "print(t_critical)"
      ],
      "metadata": {
        "id": "BwioDo3R_bUI"
      },
      "execution_count": null,
      "outputs": []
    },
    {
      "cell_type": "code",
      "source": [
        "# Step 4: Compute Margin of Error\n",
        "margin_of_error = t_critical * (sample_std_dev / np.sqrt(n))"
      ],
      "metadata": {
        "id": "zniNZdY-ArW3"
      },
      "execution_count": null,
      "outputs": []
    },
    {
      "cell_type": "code",
      "source": [
        "print(margin_of_error)"
      ],
      "metadata": {
        "id": "jX6fcshLBC6g"
      },
      "execution_count": null,
      "outputs": []
    },
    {
      "cell_type": "code",
      "source": [
        "#Step 5: Compute the confidence interval\n",
        "lower_bound = sample_mean - margin_of_error\n",
        "upper_bound = sample_mean + margin_of_error"
      ],
      "metadata": {
        "id": "91bQZlRUBK4Y"
      },
      "execution_count": null,
      "outputs": []
    },
    {
      "cell_type": "code",
      "source": [
        "print(lower_bound,upper_bound)"
      ],
      "metadata": {
        "id": "5Tt9JBvSBVgX"
      },
      "execution_count": null,
      "outputs": []
    },
    {
      "cell_type": "markdown",
      "source": [
        "* **Build 99% Confidence Interval Using Known Population Standard deviation**\n",
        "\n",
        "If it were known that the population standard deviation is 0.2 million characters, construct a 99% confidence interval for the mean number of characters printed before failure.\n",
        "\n"
      ],
      "metadata": {
        "id": "ajCONJkXDhom"
      }
    },
    {
      "cell_type": "code",
      "source": [
        "# Step 1: Sample size and mean\n",
        "sample_mean = np.mean(data)"
      ],
      "metadata": {
        "id": "fcdUwjKZEyLj"
      },
      "execution_count": null,
      "outputs": []
    },
    {
      "cell_type": "code",
      "source": [
        "print(sample_mean)"
      ],
      "metadata": {
        "id": "BZMXYwRPFWyb"
      },
      "execution_count": null,
      "outputs": []
    },
    {
      "cell_type": "code",
      "source": [
        "# Step 2: Compute the Z-critical value\n",
        "confidence_level = 0.99\n",
        "z_critical = stats.norm.ppf((1 + confidence_level) / 2)"
      ],
      "metadata": {
        "id": "fuSkpVkoFZ14"
      },
      "execution_count": null,
      "outputs": []
    },
    {
      "cell_type": "code",
      "source": [
        "print(z_critical)"
      ],
      "metadata": {
        "id": "C1DdGFXiGE5O"
      },
      "execution_count": null,
      "outputs": []
    },
    {
      "cell_type": "code",
      "source": [
        "# Given population standard deviation\n",
        "population_std_dev = 0.2\n",
        "\n",
        "# Step 3: Compute Standard Error (SE)\n",
        "standard_error = population_std_dev / np.sqrt(n)\n"
      ],
      "metadata": {
        "id": "9q9YHxiHGHqg"
      },
      "execution_count": null,
      "outputs": []
    },
    {
      "cell_type": "code",
      "source": [
        "print(standard_error)"
      ],
      "metadata": {
        "id": "zwbOi1vEG-zK"
      },
      "execution_count": null,
      "outputs": []
    },
    {
      "cell_type": "code",
      "source": [
        "#Step 4: Compute the Margin of Error (ME)\n",
        "margin_of_error = z_critical * standard_error\n"
      ],
      "metadata": {
        "id": "d_8qW95EHJw4"
      },
      "execution_count": null,
      "outputs": []
    },
    {
      "cell_type": "code",
      "source": [
        "print(margin_of_error)"
      ],
      "metadata": {
        "id": "dbjqxLTNHhoC"
      },
      "execution_count": null,
      "outputs": []
    },
    {
      "cell_type": "code",
      "source": [
        "#Step 5: Compute the Confidence Interval\n",
        "lower_bound = sample_mean - margin_of_error\n",
        "upper_bound = sample_mean + margin_of_error"
      ],
      "metadata": {
        "id": "JdyWePqDHksY"
      },
      "execution_count": null,
      "outputs": []
    },
    {
      "cell_type": "code",
      "source": [
        "print(lower_bound,upper_bound)"
      ],
      "metadata": {
        "id": "sYsdONMWHzGi"
      },
      "execution_count": null,
      "outputs": []
    },
    {
      "cell_type": "code",
      "source": [],
      "metadata": {
        "id": "lzwj9J6h-2Sa"
      },
      "execution_count": null,
      "outputs": []
    }
  ]
}
